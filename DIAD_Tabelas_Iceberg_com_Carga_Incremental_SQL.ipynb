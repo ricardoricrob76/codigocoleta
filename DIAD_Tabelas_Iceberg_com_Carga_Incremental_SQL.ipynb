{
  "nbformat": 4,
  "nbformat_minor": 0,
  "metadata": {
    "colab": {
      "provenance": [],
      "authorship_tag": "ABX9TyPs4cFZgiNxBBSEpLoPG6KR",
      "include_colab_link": true
    },
    "kernelspec": {
      "name": "python3",
      "display_name": "Python 3"
    },
    "language_info": {
      "name": "python"
    }
  },
  "cells": [
    {
      "cell_type": "markdown",
      "metadata": {
        "id": "view-in-github",
        "colab_type": "text"
      },
      "source": [
        "<a href=\"https://colab.research.google.com/github/ricardoricrob76/codigocoleta/blob/master/DIAD_Tabelas_Iceberg_com_Carga_Incremental_SQL.ipynb\" target=\"_parent\"><img src=\"https://colab.research.google.com/assets/colab-badge.svg\" alt=\"Open In Colab\"/></a>"
      ]
    },
    {
      "cell_type": "code",
      "execution_count": 1,
      "metadata": {
        "id": "nsN6ThDI-6yK"
      },
      "outputs": [],
      "source": [
        "# Aqui está um exemplo básico de código em Tabelas Iceberg com carga incremental do tipo CDC (Change Data Capture):"
      ]
    },
    {
      "cell_type": "code",
      "source": [
        "-- Criação da tabela Iceberg\n",
        "CREATE TABLE iceberg_table (\n",
        "  id INT,\n",
        "  name VARCHAR(100),\n",
        "  age INT,\n",
        "  last_updated TIMESTAMP\n",
        ") PARTITIONED BY (date DATE) STORED AS ICEBERG;\n",
        "\n",
        "-- Criação da tabela de staging para o CDC\n",
        "CREATE TABLE staging_table (\n",
        "  id INT,\n",
        "  name VARCHAR(100),\n",
        "  age INT,\n",
        "  operation VARCHAR(10),\n",
        "  updated_at TIMESTAMP\n",
        ") STORED AS PARQUET;\n",
        "\n",
        "-- Inserção de dados na tabela de staging\n",
        "INSERT INTO staging_table (id, name, age, operation, updated_at)\n",
        "VALUES\n",
        "  (1, 'John', 30, 'INSERT', CURRENT_TIMESTAMP),\n",
        "  (2, 'Jane', 25, 'INSERT', CURRENT_TIMESTAMP),\n",
        "  (1, 'John Doe', 31, 'UPDATE', CURRENT_TIMESTAMP),\n",
        "  (2, 'Jane Smith', 26, 'UPDATE', CURRENT_TIMESTAMP),\n",
        "  (3, 'Bob', 40, 'INSERT', CURRENT_TIMESTAMP);\n",
        "\n",
        "-- Carga incremental para a tabela Iceberg\n",
        "INSERT INTO iceberg_table\n",
        "SELECT\n",
        "  id,\n",
        "  name,\n",
        "  age,\n",
        "  updated_at\n",
        "FROM staging_table\n",
        "WHERE operation IN ('INSERT', 'UPDATE');\n",
        "\n",
        "-- Atualização da coluna last_updated na tabela Iceberg\n",
        "UPDATE iceberg_table\n",
        "SET last_updated = (SELECT MAX(updated_at) FROM staging_table);\n",
        "\n",
        "-- Limpeza da tabela de staging após a carga incremental\n",
        "DELETE FROM staging_table;\n"
      ],
      "metadata": {
        "id": "arIf1pJ__BdM"
      },
      "execution_count": null,
      "outputs": []
    },
    {
      "cell_type": "markdown",
      "source": [
        "Neste exemplo, temos duas tabelas: iceberg_table, que é a tabela Iceberg onde os dados são armazenados, e staging_table, que é a tabela de staging usada para capturar as mudanças incrementais.\n",
        "\n",
        "Na tabela staging_table, os dados são inseridos com uma coluna adicional chamada operation, que indica se a linha é uma inserção ou uma atualização. A coluna updated_at armazena a data e hora em que a operação foi executada.\n",
        "\n",
        "A carga incremental é realizada na tabela iceberg_table usando uma instrução INSERT INTO ... SELECT que seleciona apenas as linhas da tabela de staging com operações de inserção ou atualização. Após a carga, a coluna last_updated na tabela iceberg_table é atualizada com a data e hora mais recentes das operações de atualização.\n",
        "\n",
        "Por fim, a tabela de staging é limpa usando a instrução DELETE FROM staging_table, pois os dados já foram carregados na tabela Iceberg.\n",
        "\n",
        "Este é apenas um exemplo básico para ilustrar a ideia de carga incremental do tipo CDC em Tabelas Iceberg. Dependendo do seu ambiente e necessidades específicas, pode ser necessário fazer ajustes adicionais."
      ],
      "metadata": {
        "id": "ULa4eg7Y_OUj"
      }
    },
    {
      "cell_type": "code",
      "source": [],
      "metadata": {
        "id": "YrBejrVr_PdE"
      },
      "execution_count": null,
      "outputs": []
    }
  ]
}